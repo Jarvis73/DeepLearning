{
 "cells": [
  {
   "cell_type": "markdown",
   "metadata": {
    "toc": true
   },
   "source": [
    "<h1>Table of Contents<span class=\"tocSkip\"></span></h1>\n",
    "<div class=\"toc\"><ul class=\"toc-item\"><li><span><a href=\"#使用生成器为-Keras-训练提供数据\" data-toc-modified-id=\"使用生成器为-Keras-训练提供数据-1\">使用生成器为 Keras 训练提供数据</a></span><ul class=\"toc-item\"><li><span><a href=\"#1.-导入数据\" data-toc-modified-id=\"1.-导入数据-1.1\">1. 导入数据</a></span></li><li><span><a href=\"#2.-数据预处理\" data-toc-modified-id=\"2.-数据预处理-1.2\">2. 数据预处理</a></span></li><li><span><a href=\"#3.-定义模型\" data-toc-modified-id=\"3.-定义模型-1.3\">3. 定义模型</a></span></li><li><span><a href=\"#4.-开始训练\" data-toc-modified-id=\"4.-开始训练-1.4\">4. 开始训练</a></span></li><li><span><a href=\"#5.-训练结束后评估\" data-toc-modified-id=\"5.-训练结束后评估-1.5\">5. 训练结束后评估</a></span></li></ul></li></ul></div>"
   ]
  },
  {
   "cell_type": "markdown",
   "metadata": {},
   "source": [
    "## 使用生成器为 Keras 训练提供数据\n",
    "\n",
    "这一部分我们学习使用生成器为 Keras 提供训练和验证数据.\n",
    "\n",
    "持续训练模型可能有过拟合的风险, 一种解决方法是提前停止训练, 因此我们可以在训练的过程中加入验证, 当验证精度长时间不再提升的时候就可以停止训练了."
   ]
  },
  {
   "cell_type": "code",
   "execution_count": 1,
   "metadata": {},
   "outputs": [
    {
     "name": "stdout",
     "output_type": "stream",
     "text": [
      "1.13.1 2.2.4-tf\n"
     ]
    }
   ],
   "source": [
    "import numpy as np\n",
    "import tensorflow as tf\n",
    "from tensorflow import keras as K\n",
    "\n",
    "print(tf.VERSION, K.__version__)\n",
    "nn = K.layers"
   ]
  },
  {
   "cell_type": "markdown",
   "metadata": {},
   "source": [
    "### 1. 导入数据"
   ]
  },
  {
   "cell_type": "code",
   "execution_count": 2,
   "metadata": {},
   "outputs": [
    {
     "name": "stdout",
     "output_type": "stream",
     "text": [
      "(60000, 28, 28) (60000,)\n",
      "(10000, 28, 28) (10000,)\n"
     ]
    }
   ],
   "source": [
    "fashion_mnist = K.datasets.fashion_mnist\n",
    "(train_images, train_labels), (test_images, test_labels) = fashion_mnist.load_data()\n",
    "print(train_images.shape, train_labels.shape)\n",
    "print(test_images.shape, test_labels.shape)"
   ]
  },
  {
   "cell_type": "markdown",
   "metadata": {},
   "source": [
    "### 2. 数据预处理"
   ]
  },
  {
   "cell_type": "markdown",
   "metadata": {},
   "source": [
    "我们定义一个数据预处理函数. 这里为了简单只做灰度值归一化的操作."
   ]
  },
  {
   "cell_type": "code",
   "execution_count": 3,
   "metadata": {},
   "outputs": [],
   "source": [
    "def preprocess(image, label):\n",
    "    image = (image / 255.).astype(np.float32)\n",
    "    label = label.astype(np.int32)\n",
    "    return image, label"
   ]
  },
  {
   "cell_type": "markdown",
   "metadata": {},
   "source": [
    "接下来我们想使用 Keras 的 `fit_generator` 函数来开启训练, 因此要先定义一个数据生成器. 这个数据生成器接受 images 数组和 labels 数组作为输入, 同时可以指定批大小 `batch_size`, 和是否要打乱数据 `shuffle=True/False` "
   ]
  },
  {
   "cell_type": "code",
   "execution_count": 4,
   "metadata": {},
   "outputs": [],
   "source": [
    "def data_loader(images, labels, batch_size=4, shuffle=True):\n",
    "    assert images.shape[0] == labels.shape[0], \\\n",
    "        \"Shape mismatch: images {} vs labels {}\".format(images.shape, labels.shape)\n",
    "    images, labels = preprocess(images, labels)\n",
    "\n",
    "    while True:\n",
    "        all_indices = np.arange(images.shape[0])\n",
    "        if shuffle:\n",
    "            np.random.shuffle(all_indices)\n",
    "        for i in range(0, all_indices.shape[0], batch_size):\n",
    "            image_batch = images[all_indices[i:i + batch_size]]\n",
    "            label_batch = labels[all_indices[i:i + batch_size]]\n",
    "            yield image_batch, label_batch"
   ]
  },
  {
   "cell_type": "markdown",
   "metadata": {},
   "source": [
    "### 3. 定义模型"
   ]
  },
  {
   "cell_type": "markdown",
   "metadata": {},
   "source": [
    "这里我们仍然定义包含一个隐藏层的多层感知机(MLP)"
   ]
  },
  {
   "cell_type": "code",
   "execution_count": 5,
   "metadata": {},
   "outputs": [
    {
     "name": "stdout",
     "output_type": "stream",
     "text": [
      "WARNING:tensorflow:From C:\\Users\\Jarvis\\Anaconda3\\envs\\py36\\lib\\site-packages\\tensorflow\\python\\ops\\resource_variable_ops.py:435: colocate_with (from tensorflow.python.framework.ops) is deprecated and will be removed in a future version.\n",
      "Instructions for updating:\n",
      "Colocations handled automatically by placer.\n"
     ]
    }
   ],
   "source": [
    "model = K.Sequential([\n",
    "    nn.Flatten(input_shape=(28, 28)),\n",
    "    nn.Dense(128, activation=tf.nn.relu),\n",
    "    nn.Dense(10, activation=tf.nn.softmax)\n",
    "])"
   ]
  },
  {
   "cell_type": "markdown",
   "metadata": {},
   "source": [
    "定义模型优化器, 损失函数和评估指标"
   ]
  },
  {
   "cell_type": "code",
   "execution_count": 6,
   "metadata": {},
   "outputs": [],
   "source": [
    "model.compile(tf.train.AdamOptimizer(),\n",
    "              loss=\"sparse_categorical_crossentropy\",\n",
    "              metrics=[\"accuracy\"])"
   ]
  },
  {
   "cell_type": "markdown",
   "metadata": {},
   "source": [
    "### 4. 开始训练"
   ]
  },
  {
   "cell_type": "markdown",
   "metadata": {},
   "source": [
    "首先创建用于训练和验证的数据生成器"
   ]
  },
  {
   "cell_type": "code",
   "execution_count": 16,
   "metadata": {},
   "outputs": [],
   "source": [
    "batch_size = 16\n",
    "train_gen = data_loader(train_images, train_labels, batch_size=batch_size)\n",
    "val_gen = data_loader(test_images, test_labels, batch_size=batch_size, shuffle=False)"
   ]
  },
  {
   "cell_type": "markdown",
   "metadata": {},
   "source": [
    "然后我们使用 `fit_generator` 函数, 同时提供训练生成器和验证生成器. Keras 会在每个 epoch 结束的时候评估验证集的数据, 并输出验证集上的准确率."
   ]
  },
  {
   "cell_type": "code",
   "execution_count": 8,
   "metadata": {},
   "outputs": [
    {
     "name": "stdout",
     "output_type": "stream",
     "text": [
      "Epoch 1/10\n",
      "625/625 [==============================] - 1s 2ms/step - loss: 0.4007 - acc: 0.8558\n",
      "3750/3750 [==============================] - 14s 4ms/step - loss: 0.4812 - acc: 0.8270 - val_loss: 0.4007 - val_acc: 0.8558\n",
      "Epoch 2/10\n",
      "625/625 [==============================] - 1s 2ms/step - loss: 0.3844 - acc: 0.8610\n",
      "3750/3750 [==============================] - 13s 4ms/step - loss: 0.3712 - acc: 0.8642 - val_loss: 0.3844 - val_acc: 0.8610\n",
      "Epoch 3/10\n",
      "625/625 [==============================] - 1s 2ms/step - loss: 0.3871 - acc: 0.8552\n",
      "3750/3750 [==============================] - 14s 4ms/step - loss: 0.3315 - acc: 0.8787 - val_loss: 0.3871 - val_acc: 0.8552\n",
      "Epoch 4/10\n",
      "625/625 [==============================] - 1s 2ms/step - loss: 0.3643 - acc: 0.8730\n",
      "3750/3750 [==============================] - 16s 4ms/step - loss: 0.3093 - acc: 0.8860 - val_loss: 0.3643 - val_acc: 0.8730\n",
      "Epoch 5/10\n",
      "625/625 [==============================] - 1s 2ms/step - loss: 0.3492 - acc: 0.8774\n",
      "3750/3750 [==============================] - 17s 4ms/step - loss: 0.2911 - acc: 0.8923 - val_loss: 0.3492 - val_acc: 0.8774\n",
      "Epoch 6/10\n",
      "625/625 [==============================] - 1s 2ms/step - loss: 0.3335 - acc: 0.8799\n",
      "3750/3750 [==============================] - 18s 5ms/step - loss: 0.2778 - acc: 0.8959 - val_loss: 0.3335 - val_acc: 0.8799\n",
      "Epoch 7/10\n",
      "625/625 [==============================] - 1s 2ms/step - loss: 0.3485 - acc: 0.8807\n",
      "3750/3750 [==============================] - 16s 4ms/step - loss: 0.2653 - acc: 0.9012 - val_loss: 0.3485 - val_acc: 0.8807\n",
      "Epoch 8/10\n",
      "625/625 [==============================] - 2s 3ms/step - loss: 0.3456 - acc: 0.8776\n",
      "3750/3750 [==============================] - 23s 6ms/step - loss: 0.2553 - acc: 0.9057 - val_loss: 0.3456 - val_acc: 0.8776\n",
      "Epoch 9/10\n",
      "625/625 [==============================] - 2s 3ms/step - loss: 0.3420 - acc: 0.8841\n",
      "3750/3750 [==============================] - 20s 5ms/step - loss: 0.2465 - acc: 0.9075 - val_loss: 0.3420 - val_acc: 0.8841\n",
      "Epoch 10/10\n",
      "625/625 [==============================] - 2s 3ms/step - loss: 0.3480 - acc: 0.8800\n",
      "3750/3750 [==============================] - 22s 6ms/step - loss: 0.2392 - acc: 0.9098 - val_loss: 0.3480 - val_acc: 0.8800\n"
     ]
    },
    {
     "data": {
      "text/plain": [
       "<tensorflow.python.keras.callbacks.History at 0x1d83a447940>"
      ]
     },
     "execution_count": 8,
     "metadata": {},
     "output_type": "execute_result"
    }
   ],
   "source": [
    "model.fit_generator(train_gen, steps_per_epoch=train_labels.shape[0] // batch_size, epochs=10,\n",
    "                    validation_data=val_gen, validation_steps=test_labels.shape[0] // batch_size)"
   ]
  },
  {
   "cell_type": "markdown",
   "metadata": {},
   "source": [
    "### 5. 训练结束后评估\n",
    "\n",
    "这里我们评估也使用生成器"
   ]
  },
  {
   "cell_type": "code",
   "execution_count": 17,
   "metadata": {},
   "outputs": [
    {
     "name": "stdout",
     "output_type": "stream",
     "text": [
      "Test accuracy: 0.8799\n"
     ]
    }
   ],
   "source": [
    "test_loss, test_acc = model.evaluate_generator(val_gen, steps=test_labels.shape[0] // batch_size)\n",
    "print('Test accuracy:', test_acc)"
   ]
  },
  {
   "cell_type": "markdown",
   "metadata": {},
   "source": [
    "使用数组输入评估, 要记得做同样的数据预处理."
   ]
  },
  {
   "cell_type": "code",
   "execution_count": 14,
   "metadata": {},
   "outputs": [
    {
     "name": "stdout",
     "output_type": "stream",
     "text": [
      "10000/10000 [==============================] - 0s 41us/sample - loss: 0.3483 - acc: 0.8799\n",
      "Test accuracy: 0.8799\n"
     ]
    }
   ],
   "source": [
    "test_images_, test_labels_ = preprocess(test_images, test_labels)\n",
    "test_loss, test_acc = model.evaluate(test_images_, test_labels_)\n",
    "print('Test accuracy:', test_acc)"
   ]
  },
  {
   "cell_type": "markdown",
   "metadata": {},
   "source": [
    "结果肯定是一样的."
   ]
  },
  {
   "cell_type": "code",
   "execution_count": null,
   "metadata": {},
   "outputs": [],
   "source": []
  }
 ],
 "metadata": {
  "kernelspec": {
   "display_name": "Python 3",
   "language": "python",
   "name": "python3"
  },
  "language_info": {
   "codemirror_mode": {
    "name": "ipython",
    "version": 3
   },
   "file_extension": ".py",
   "mimetype": "text/x-python",
   "name": "python",
   "nbconvert_exporter": "python",
   "pygments_lexer": "ipython3",
   "version": "3.6.8"
  },
  "toc": {
   "base_numbering": 1,
   "nav_menu": {},
   "number_sections": false,
   "sideBar": true,
   "skip_h1_title": false,
   "title_cell": "Table of Contents",
   "title_sidebar": "Contents",
   "toc_cell": true,
   "toc_position": {},
   "toc_section_display": true,
   "toc_window_display": false
  },
  "varInspector": {
   "cols": {
    "lenName": 16,
    "lenType": 16,
    "lenVar": 40
   },
   "kernels_config": {
    "python": {
     "delete_cmd_postfix": "",
     "delete_cmd_prefix": "del ",
     "library": "var_list.py",
     "varRefreshCmd": "print(var_dic_list())"
    },
    "r": {
     "delete_cmd_postfix": ") ",
     "delete_cmd_prefix": "rm(",
     "library": "var_list.r",
     "varRefreshCmd": "cat(var_dic_list()) "
    }
   },
   "types_to_exclude": [
    "module",
    "function",
    "builtin_function_or_method",
    "instance",
    "_Feature"
   ],
   "window_display": false
  }
 },
 "nbformat": 4,
 "nbformat_minor": 2
}
